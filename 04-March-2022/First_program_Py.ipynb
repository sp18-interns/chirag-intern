{
 "cells": [
  {
   "cell_type": "code",
   "execution_count": 1,
   "id": "2354b984",
   "metadata": {},
   "outputs": [
    {
     "name": "stdout",
     "output_type": "stream",
     "text": [
      "var1 is bigger\n"
     ]
    }
   ],
   "source": [
    "var1 = 10\n",
    "var2=20\n",
    "if var1<var2:\n",
    "    print(\"var1 is BIG\")\n",
    "else:\n",
    "    print(\"var2 is bigger\")"
   ]
  },
  {
   "cell_type": "code",
   "execution_count": 4,
   "id": "e7e333db",
   "metadata": {},
   "outputs": [
    {
     "name": "stdout",
     "output_type": "stream",
     "text": [
      "20\n",
      "var3 is bigger\n"
     ]
    }
   ],
   "source": [
    "var1 = 10\n",
    "var2=20\n",
    "var3= int(input()) \n",
    "if var1>var3:\n",
    "    print(\"var1 is bigger\")\n",
    "else:\n",
    "    print(\"var3 is bigger\")"
   ]
  },
  {
   "cell_type": "code",
   "execution_count": null,
   "id": "38ee4bc2",
   "metadata": {},
   "outputs": [],
   "source": []
  }
 ],
 "metadata": {
  "kernelspec": {
   "display_name": "Python 3 (ipykernel)",
   "language": "python",
   "name": "python3"
  },
  "language_info": {
   "codemirror_mode": {
    "name": "ipython",
    "version": 3
   },
   "file_extension": ".py",
   "mimetype": "text/x-python",
   "name": "python",
   "nbconvert_exporter": "python",
   "pygments_lexer": "ipython3",
   "version": "3.10.2"
  }
 },
 "nbformat": 4,
 "nbformat_minor": 5
}
